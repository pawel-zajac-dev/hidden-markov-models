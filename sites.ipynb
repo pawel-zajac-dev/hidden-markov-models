{
 "cells": [
  {
   "metadata": {},
   "cell_type": "markdown",
   "source": [
    "# User Navigation Analysis with Markov-Like Model\n",
    "\n",
    "Analyze user navigation behavior on a website using page-to-page transition data. The focus is on understanding bounce rates, initial entry points, and transition probabilities between pages - without needing full session tracking.\n",
    "\n",
    "## Assumptions:\n",
    "Input data is in `site_data.csv` with two columns:\n",
    "`last_page_id`, `next_page_id`\n",
    "\n",
    "Page IDs are strings or numbers (e.g. `\"3\"` or `\"5\"`)\n",
    "\n",
    "**Special cases:**\n",
    "\n",
    "+ `last_page_id = \"-1\"` → session entry point\n",
    "\n",
    "+ `next_page_id = \"B\"` → bounce (user left immediately)\n",
    "\n",
    "+ `next_page_id = \"C\"` → close (user finished session normally)\n",
    "\n",
    "## Core steps:\n",
    "1. Parse CSV and extract transitions `(s, e)` - from source to destination page.\n",
    "\n",
    "2. Count transitions between pages and store them as a flat dictionary.\n",
    "\n",
    "3. Normalize these counts to produce transition probabilities (like a simplified Markov model).\n",
    "\n",
    "4. Output insights:\n",
    "\n",
    "    + Distribution of entry pages (`s == \"-1\"`)\n",
    "\n",
    "    + Bounce rates per page (`e == \"B\"`)\n",
    "\n",
    "## Key benefits:\n",
    "+ No need for full session history - only direct page-to-page data.\n",
    "\n",
    "+ Fast and lightweight to compute.\n",
    "\n",
    "+ Works well even without JavaScript or client-side instrumentation.\n"
   ],
   "id": "bf79c09a94c29900"
  },
  {
   "metadata": {},
   "cell_type": "markdown",
   "source": "# Import",
   "id": "84bb584a315071"
  },
  {
   "metadata": {
    "ExecuteTime": {
     "end_time": "2025-07-08T21:40:48.195Z",
     "start_time": "2025-07-08T21:40:48.188974Z"
    }
   },
   "cell_type": "code",
   "source": [
    "from future.utils import iteritems\n",
    "import numpy as np"
   ],
   "id": "3f59c704d0a23625",
   "outputs": [],
   "execution_count": 67
  },
  {
   "metadata": {},
   "cell_type": "markdown",
   "source": "# Display the data",
   "id": "9a0d96ebfc524161"
  },
  {
   "metadata": {
    "ExecuteTime": {
     "end_time": "2025-07-08T21:40:48.210306Z",
     "start_time": "2025-07-08T21:40:48.202982Z"
    }
   },
   "cell_type": "code",
   "source": [
    "for i, line in enumerate(open('site_data/site_data.csv')):\n",
    "    if i == 5:\n",
    "        break\n",
    "    print(line)"
   ],
   "id": "b26f5f5137cbc32b",
   "outputs": [
    {
     "name": "stdout",
     "output_type": "stream",
     "text": [
      "-1,8\n",
      "\n",
      "4,8\n",
      "\n",
      "-1,2\n",
      "\n",
      "1,B\n",
      "\n",
      "-1,5\n",
      "\n"
     ]
    }
   ],
   "execution_count": 68
  },
  {
   "metadata": {},
   "cell_type": "markdown",
   "source": "# Collect counts",
   "id": "c02fb08c160d7291"
  },
  {
   "metadata": {
    "ExecuteTime": {
     "end_time": "2025-07-08T21:40:48.352868Z",
     "start_time": "2025-07-08T21:40:48.248999Z"
    }
   },
   "cell_type": "code",
   "source": [
    "transitions = {}\n",
    "row_sums = {}\n",
    "\n",
    "# row_sums[key] = value → {key : value}\n",
    "\n",
    "for line in open('site_data/site_data.csv'):\n",
    "    s,e = line.rstrip().split(',')\n",
    "    transitions[(s,e)] = transitions.get((s,e), 0) + 1\n",
    "    row_sums[s] = row_sums.get((s), 0) + 1\n",
    "\n",
    "# transitions → {('-1', '8'): 2016, ...}\n",
    "# row_sums → {'-1': 2016, ...}"
   ],
   "id": "c3bcfe6652a2a345",
   "outputs": [],
   "execution_count": 69
  },
  {
   "metadata": {},
   "cell_type": "markdown",
   "source": "# Normalize",
   "id": "5d40365f68b20077"
  },
  {
   "metadata": {
    "ExecuteTime": {
     "end_time": "2025-07-08T21:40:48.379738Z",
     "start_time": "2025-07-08T21:40:48.375306Z"
    }
   },
   "cell_type": "code",
   "source": [
    "for k,v in iteritems(transitions):\n",
    "    s,e = k\n",
    "    transitions[k] = v/row_sums[s]\n",
    "\n",
    "# transitions → {('-1', '8'): 1.2966894713406547e-14, ... }"
   ],
   "id": "de3c2a732ff91a2a",
   "outputs": [],
   "execution_count": 70
  },
  {
   "metadata": {},
   "cell_type": "markdown",
   "source": "# Initial state distribution",
   "id": "d28ba7a3f91d043"
  },
  {
   "metadata": {
    "ExecuteTime": {
     "end_time": "2025-07-08T21:40:48.414612Z",
     "start_time": "2025-07-08T21:40:48.406130Z"
    }
   },
   "cell_type": "code",
   "source": [
    "print('Initial state distribution:')\n",
    "for k,v in iteritems(transitions):\n",
    "    s,e = k\n",
    "    if s == '-1':\n",
    "        print(e,v)"
   ],
   "id": "8eb6b6338d10171b",
   "outputs": [
    {
     "name": "stdout",
     "output_type": "stream",
     "text": [
      "Initial state distribution:\n",
      "8 0.10152591025834719\n",
      "2 0.09507982071813466\n",
      "5 0.09779926474291183\n",
      "9 0.10384247368686106\n",
      "0 0.10298635241980159\n",
      "6 0.09800070504104345\n",
      "7 0.09971294757516241\n",
      "1 0.10348995316513068\n",
      "4 0.10243239159993957\n",
      "3 0.09513018079266758\n"
     ]
    }
   ],
   "execution_count": 71
  },
  {
   "metadata": {},
   "cell_type": "markdown",
   "source": "# Which page has the highest bounce?",
   "id": "6fa0cbbc488fa60c"
  },
  {
   "metadata": {
    "collapsed": true,
    "ExecuteTime": {
     "end_time": "2025-07-08T21:40:48.460343Z",
     "start_time": "2025-07-08T21:40:48.453153Z"
    }
   },
   "cell_type": "code",
   "source": [
    "for k,v in iteritems(transitions):\n",
    "    s,e = k\n",
    "    if e == 'B':\n",
    "        print(f\"Bounce rate for {s}:{v}\")"
   ],
   "id": "initial_id",
   "outputs": [
    {
     "name": "stdout",
     "output_type": "stream",
     "text": [
      "Bounce rate for 1:0.125939617991374\n",
      "Bounce rate for 2:0.12649551345962112\n",
      "Bounce rate for 8:0.12529550827423167\n",
      "Bounce rate for 6:0.1208153180975911\n",
      "Bounce rate for 7:0.12371650388179314\n",
      "Bounce rate for 3:0.12743384922616077\n",
      "Bounce rate for 4:0.1255756067205974\n",
      "Bounce rate for 5:0.12369559684398065\n",
      "Bounce rate for 0:0.1279673590504451\n",
      "Bounce rate for 9:0.13176232104396302\n"
     ]
    }
   ],
   "execution_count": 72
  }
 ],
 "metadata": {
  "kernelspec": {
   "display_name": "Python 3",
   "language": "python",
   "name": "python3"
  },
  "language_info": {
   "codemirror_mode": {
    "name": "ipython",
    "version": 2
   },
   "file_extension": ".py",
   "mimetype": "text/x-python",
   "name": "python",
   "nbconvert_exporter": "python",
   "pygments_lexer": "ipython2",
   "version": "2.7.6"
  }
 },
 "nbformat": 4,
 "nbformat_minor": 5
}
